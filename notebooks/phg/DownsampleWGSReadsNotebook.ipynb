{
 "cells": [
  {
   "cell_type": "markdown",
   "id": "ea140e46",
   "metadata": {},
   "source": [
    "# Downsampling WGS Reads\n",
    "\n",
    "This notebook walks through the steps of downsampling reads for the purpose of testing PHG imputation. It uses seqtk to downsample paired end reads in a particular directory and outputs those downsampled reads (at 1x, 0.1x and 0.01x coverage) to new folders of choice."
   ]
  },
  {
   "cell_type": "code",
   "execution_count": 1,
   "id": "6e202d53",
   "metadata": {},
   "outputs": [],
   "source": [
    "import os\n",
    "import random"
   ]
  },
  {
   "cell_type": "code",
   "execution_count": 2,
   "id": "9e43d2ae",
   "metadata": {},
   "outputs": [],
   "source": [
    "# the working directory\n",
    "working_dir = \"/workdir/ahb232/phg_sorghum_apr2023/\"\n",
    "\n",
    "# folder containing the original wgs data\n",
    "original_wgs = working_dir + \"/WGS/sorghumbase/\"\n",
    "\n",
    "# folders for each set of downsampled data\n",
    "coverage_1 = working_dir + \"/WGS/sorghumbase/coverage_1x/\"\n",
    "coverage_01 = working_dir + \"/WGS/sorghumbase/coverage_0.1x/\"\n",
    "coverage_001 = working_dir + \"/WGS/sorghumbase/coverage_0.01x/\""
   ]
  },
  {
   "cell_type": "code",
   "execution_count": 3,
   "id": "15d35378",
   "metadata": {},
   "outputs": [],
   "source": [
    "# approximate genome length and read length are required to determine the \n",
    "# number of reads needed to simulate 1x, 0.1x and 0.01x coverage\n",
    "\n",
    "genome_length = 716928177\n",
    "read_length = 150\n",
    "\n",
    "single_coverage = round(genome_length / read_length / 2)\n",
    "tenth_coverage = round(single_coverage / 10)\n",
    "hundreth_coverage = round(single_coverage / 100)"
   ]
  },
  {
   "cell_type": "code",
   "execution_count": 4,
   "id": "ab9c5bb0",
   "metadata": {},
   "outputs": [
    {
     "name": "stdout",
     "output_type": "stream",
     "text": [
      "IS3614-3_270_1.fq.gz\n",
      "-- 1x coverage seed: 230\n",
      "-- 0.1x coverage seed: 84\n",
      "-- 0.01x coverage seed: 123\n"
     ]
    }
   ],
   "source": [
    "# loop through each file in the original wgs folder\n",
    "# NOTE: this script assumes that you are using paired-end reads\n",
    "# and that the pairs are named in the following format:\n",
    "# <some identifier>_1.fq.gz\n",
    "# <some identifier>_2.fq.gz\n",
    "# If a different naming scheme is used this script must be modified\n",
    "# this script also uses the same random seed for both files\n",
    "# so that pairs are maintained\n",
    "# a new seed is chosen for each pair and downsampling level\n",
    "for file in os.listdir(original_wgs):\n",
    "    if file.endswith(\"_1.fq.gz\"):\n",
    "        \n",
    "        # replace 1 with 2 to get second paired read file\n",
    "        file2 = file[:-7] + \"2\" + file[-6:]\n",
    "        \n",
    "        file_path = original_wgs + file\n",
    "        file2_path = original_wgs + file2\n",
    "        \n",
    "        print(file)\n",
    "        \n",
    "        # 1x coverage\n",
    "        seed = random.randint(1, 1000)\n",
    "        print(\"-- 1x coverage seed: \" + str(seed))\n",
    "        \n",
    "        out_path = coverage_1 + \"coverage_1x_\" + file[:-3]\n",
    "        out2_path = coverage_1 + \"coverage_1x_\" + file2[:-3]\n",
    "        \n",
    "        ! seqtk sample -s {seed} {file_path} {single_coverage} > {out_path}\n",
    "        ! seqtk sample -s {seed} {file2_path} {single_coverage} > {out2_path}\n",
    "        \n",
    "        ! gzip {out_path}\n",
    "        ! gzip {out2_path}\n",
    "        \n",
    "        #0.1x coverage\n",
    "        \n",
    "        seed = random.randint(1, 1000)\n",
    "        print(\"-- 0.1x coverage seed: \" + str(seed))\n",
    "        \n",
    "        out_path = coverage_01 + \"coverage_0.1x_\" + file[:-3]\n",
    "        out2_path = coverage_01 + \"coverage_0.1x_\" + file2[:-3]\n",
    "        \n",
    "        ! seqtk sample -s {seed} {file_path} {tenth_coverage} > {out_path}\n",
    "        ! seqtk sample -s {seed} {file2_path} {tenth_coverage} > {out2_path}\n",
    "    \n",
    "        ! gzip {out_path}\n",
    "        ! gzip {out2_path}\n",
    "        \n",
    "        #0.01x coverage\n",
    "        \n",
    "        seed = random.randint(1, 1000)\n",
    "        print(\"-- 0.01x coverage seed: \" + str(seed))\n",
    "        \n",
    "        out_path = coverage_001 + \"coverage_0.01x_\" + file[:-3]\n",
    "        out2_path = coverage_001 + \"coverage_0.01x_\" + file2[:-3]\n",
    "        \n",
    "        ! seqtk sample -s {seed} {file_path} {hundreth_coverage} > {out_path}\n",
    "        ! seqtk sample -s {seed} {file2_path} {hundreth_coverage} > {out2_path}\n",
    "        \n",
    "        ! gzip {out_path}\n",
    "        ! gzip {out2_path}\n",
    "        "
   ]
  },
  {
   "cell_type": "code",
   "execution_count": null,
   "id": "1a18997c",
   "metadata": {},
   "outputs": [],
   "source": []
  }
 ],
 "metadata": {
  "kernelspec": {
   "display_name": "Python 3 (ipykernel)",
   "language": "python",
   "name": "python3"
  },
  "language_info": {
   "codemirror_mode": {
    "name": "ipython",
    "version": 3
   },
   "file_extension": ".py",
   "mimetype": "text/x-python",
   "name": "python",
   "nbconvert_exporter": "python",
   "pygments_lexer": "ipython3",
   "version": "3.9.10"
  }
 },
 "nbformat": 4,
 "nbformat_minor": 5
}
