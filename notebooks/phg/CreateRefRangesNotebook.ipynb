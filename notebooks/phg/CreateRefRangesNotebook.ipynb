{
 "cells": [
  {
   "cell_type": "markdown",
   "id": "1e02118c",
   "metadata": {},
   "source": [
    "# CreateRefRangesPlugin\n",
    "\n",
    "This plugin divides a genome into genic and intergenic regions for use as reference ranges when building a Practical Haplotype Graph. To do so, it starts with a list of genes. The boundaries of the genic regions are initially at the start and end of each gene's CDS. Then, these regions are expanded outwards until a high-coverage sequence is found. Overlapping regions are merged, and intergenic regions fill in the gaps between genic regions. Finally, both genic and intergenic regions may be subdivided based on length or divergence of haplotypes. The goal is to create reference ranges where the contents of each range are very likely to be inherited as a unit, and with crossover during recombination more likely to occur at the boundaries between reference ranges. Final reference ranges are output in BED file format.\n",
    "\n",
    "This notebook assumes you will be running the plugin within Docker. The image maizegenetics/phg (version 1.0 or later) contains the necessary dependencies, and is available on [DockerHub](https://hub.docker.com/r/maizegenetics/phg). \n",
    "\n",
    "## Input Files\n",
    "\n",
    "- reference genome (fasta format). All subsequent files should use this genome as their reference. \n",
    "- gene annotations (gff3 format). At minimum must contain genes or CDS. These genes will define your genic regions.\n",
    "- aligned assemblies (gvcf format). See AssemblyMAFFromAnchorwavePlugin and MAFToGVCFPlugin for more details. These assemblies will be used to estimate the divergence within each reference range and determine if a range neds to be split.\n",
    "- genome coverage (wiggle format). Wiggle files describing the coverage of the aligned assemblies (above) over the reference genome. Either coverage or identity may be used. One file is required for each reference chromosome.\n",
    "- Optionally, a second set of wiggle files may be provided to add more diverse and/or cross-species coverage information to further restrict the sites we consider as high-coverage. If secondary wiggle files are used, a site must have a sufficiently high coverage in both sets to be considered for a region boundary.\n",
    "\n",
    "## Output Files\n",
    "\n",
    "- reference ranges (bed format). The final reference ranges.\n",
    "- splitWithCounts.txt (text file). Records the results of splitting reference ranges with haplotype number for each\n",
    "- gene ranges (text file, optional). Records the results of expanding the boundaries of each genic region. A value of -1 for totalExpansion indicates that a window with sufficiently high coverage could not be found for that gene, and that the genic range was dropped. The region will still be covered by an intergenic range. \n",
    "\n",
    "## Parameters\n",
    "\n",
    "Required parameters:\n",
    "- wiggleDir: the name of the directory containing the wiggle files for determining coverage\n",
    "- gffFile: the GFF file holding the genic regions\n",
    "- outputBedFile: output reference ranges\n",
    "- refGenome: the reference genome fasta\n",
    "- vcfdir: The directory containing all the gvcf files to be used for haplotype clustering. Files are expected to be bgzipped and indexed\n",
    "\n",
    "Optional and default parameters:\n",
    "- secondaryWiggleDir: name of the directory containing the wiggle files for determining coverage using secondaryMinCover (below).\n",
    "- gffFeatureType: (CDS) the feature type to use from the GFF file. Can be either CDS or gene\n",
    "- minCover: (25) the minimum allowed coverage count for determining if a bp is conserved or not\n",
    "- secondaryMinCover: (-1) the minimum allowed coverage count for determining if a bp is conserved or not for the secondary wiggle files\n",
    "- windowSize: (10) the number of bps which must flank the current site in both directions when determining region boundaries. A window of 2 * windowSize + 1 must be conserved\n",
    "- intergenicStepSize: (50000) the number of bps that the intergenic split algorithm will use to step between cut sites\n",
    "- maxSearchWindow: (10000) the number of bps to check when expanding genic region boundaries\n",
    "- outputGeneRanges: optional output file name for the gene ranges created y finding conserved breakpoints near genes from the gff file. If no name is supplied this file will not be written\n",
    "- useSecondaryForIntergenic: (false) flag for using the secondary coverage set when finding intergenic breakpoints\n",
    "- mxDiv: (0.0001) the maximum divergence allowed in the clustering step used to determine haplotype number. Haplotype number is used with the maxClusters parameter to decide when to split genic ranges\n",
    "- minLength: (1000) when attempting to subdivide genic ranges, the smallest allowable subdivision length is minLength base pairs\n",
    "- maxClusters: (10) When attempting to subdivide genic ranges, only genic ranges with more than maxClusters haplotypes after clustering will be subdivided\n",
    "- nThreads: (10) the number of threads that will be used for subdividing genic ranges"
   ]
  },
  {
   "cell_type": "code",
   "execution_count": 1,
   "id": "edb82c9c",
   "metadata": {},
   "outputs": [],
   "source": [
    "###########\n",
    "# EDIT ME #\n",
    "###########\n",
    "\n",
    "# working directory\n",
    "working_dir = \"/workdir/ahb232/phg_sorghum_apr2023/\"\n",
    "\n",
    "# docker command. Usually \"docker\" but should be \"docker1\" on biohpc\n",
    "DOCKER = \"docker1\"\n",
    "\n",
    "# docker image version\n",
    "DOCKER_VERSION = \"biohpc_ahb232/phgdev\"\n",
    "\n",
    "# config file path, relative to working_dir\n",
    "config_file = \"/phg/config_refrange_tests.txt\"\n",
    "\n",
    "# log file path, relative to working_dir. If set to \"\" log will print to this notebook\n",
    "log_file =  \"/refrange_tests/create_refranges_count_kmers_false_size_7_log.txt\" "
   ]
  },
  {
   "cell_type": "code",
   "execution_count": null,
   "id": "33345706",
   "metadata": {},
   "outputs": [],
   "source": [
    "# RUN BUT DO NOT EDIT #\n",
    "\n",
    "CONFIG = \"/phg/\" + config_file\n",
    "\n",
    "TO_LOG = \"\"\n",
    "\n",
    "if (log_file != \"\"):\n",
    "    TO_LOG = \" > \" + log_file"
   ]
  },
  {
   "cell_type": "code",
   "execution_count": null,
   "id": "59f644d3",
   "metadata": {},
   "outputs": [],
   "source": [
    "! {DOCKER} run --name create_ref_ranges --rm \\\n",
    "    -v {working_dir}/:/phg/ \\\n",
    "    -t {DOCKER_VERSION} \\\n",
    "    /tassel-5-standalone/run_pipeline.pl -Xmx50G -debug -configParameters {CONFIG} \\\n",
    "    -CreateRefRangesPlugin -endPlugin {TO_LOG}"
   ]
  },
  {
   "cell_type": "code",
   "execution_count": null,
   "id": "edf5393c",
   "metadata": {},
   "outputs": [],
   "source": []
  }
 ],
 "metadata": {
  "kernelspec": {
   "display_name": "Python 3 (ipykernel)",
   "language": "python",
   "name": "python3"
  },
  "language_info": {
   "codemirror_mode": {
    "name": "ipython",
    "version": 3
   },
   "file_extension": ".py",
   "mimetype": "text/x-python",
   "name": "python",
   "nbconvert_exporter": "python",
   "pygments_lexer": "ipython3",
   "version": "3.9.10"
  }
 },
 "nbformat": 4,
 "nbformat_minor": 5
}
