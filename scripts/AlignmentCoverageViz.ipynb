{
 "cells": [
  {
   "cell_type": "code",
   "execution_count": null,
   "id": "feec0423",
   "metadata": {},
   "outputs": [],
   "source": [
    "#Imports and other setup\n",
    "import subprocess\n",
    "import matplotlib.pyplot as plt\n",
    "import numpy as np\n",
    "import pandas\n",
    "import os\n",
    "import linecache\n",
    "import matplotlib.ticker as mtick\n",
    "from matplotlib.collections import BrokenBarHCollection"
   ]
  },
  {
   "cell_type": "code",
   "execution_count": null,
   "id": "86176561",
   "metadata": {},
   "outputs": [],
   "source": [
    "#Change variables here based on your file system\n",
    "working_dir=\"/Users/ahb232/Desktop/sorghum_stats/\"\n",
    "wiggle_dir = working_dir + \"/wiggle/coverage/\"\n",
    "bedfiles_dir = working_dir + \"/ranges/\"\n",
    "refranges_file = bedfiles_dir + \"validBedFile.bed\""
   ]
  },
  {
   "cell_type": "code",
   "execution_count": null,
   "id": "84186d74",
   "metadata": {},
   "outputs": [],
   "source": [
    "#Get distribution of coverage for each chromosome\n",
    "\n",
    "df = \"\"\n",
    "\n",
    "is_first = True\n",
    "\n",
    "for file_name in os.listdir(wiggle_dir):\n",
    "    if (file_name.startswith(\"coverage\") and file_name.endswith(\".wig\")):\n",
    "        \n",
    "        #Get chromosome name from file name\n",
    "        chr_name = file_name.replace(\"coverage_\", \"\").replace(\".wig\", \"\")\n",
    "        \n",
    "        wiggle_file = wiggle_dir + \"/\" + file_name\n",
    "        \n",
    "        #Count the number of lines with each level of coverage\n",
    "        p1=subprocess.Popen([\"sort\", wiggle_file], stdout=subprocess.PIPE)\n",
    "        p2=subprocess.run([\"uniq\", '-c'], stdin=p1.stdout, text=True, stdout=subprocess.PIPE)\n",
    "        \n",
    "        #Reformat and remove lines that are non-numeric\n",
    "        cov = [x.split(\" \") for x in p2.stdout.split(\"\\n\")]\n",
    "        cov = [[int(x[0]), int(x[1])] for x in cov if x[0].isnumeric()]\n",
    "        \n",
    "        chr_len = sum([x[0] for x in cov])\n",
    "        \n",
    "        if is_first:\n",
    "            #Create dataframe\n",
    "            df = pandas.DataFrame({\"coverage\":[x[1] for x in cov], chr_name:[x[0]/chr_len for x in cov]})\n",
    "            is_first=False\n",
    "        else:\n",
    "            #Add new column to existing dataframe\n",
    "            df[chr_name] = [x[0]/chr_len for x in cov]\n",
    "df = df.sort_values(by=[\"coverage\"])\n",
    "\n",
    "print(df)"
   ]
  },
  {
   "cell_type": "code",
   "execution_count": null,
   "id": "cb374a38",
   "metadata": {},
   "outputs": [],
   "source": [
    "#A list of chromosome names that we can use later\n",
    "chrom = []\n",
    "for file_name in os.listdir(wiggle_dir):\n",
    "    if (file_name.startswith(\"coverage\") and file_name.endswith(\".wig\")):\n",
    "        \n",
    "        #Get chromosome name from file name\n",
    "        chrom.append(file_name.replace(\"coverage_\", \"\").replace(\".wig\", \"\"))\n",
    "chrom.sort()"
   ]
  },
  {
   "cell_type": "code",
   "execution_count": null,
   "id": "9082fd79",
   "metadata": {},
   "outputs": [],
   "source": [
    "#Plot coverage distribution across all chromosomes\n",
    "for c in chrom:\n",
    "    plt.plot(df[\"coverage\"], df[c], label=c)\n",
    "\n",
    "plt.xticks(np.arange(min(df[\"coverage\"]), max(df[\"coverage\"]+1)))        \n",
    "plt.legend(title=\"chromosome\", loc=\"upper left\")\n",
    "plt.xlabel(\"Coverage\")\n",
    "plt.ylabel(\"Percentage of total bases with the given coverage\")\n",
    "plt.title(\"Coverage across sorghum genomes\")\n",
    "plt.gca().yaxis.set_major_formatter(mtick.PercentFormatter(xmax=1, decimals=None, symbol='%', is_latex=False))\n",
    "plt.show()\n"
   ]
  },
  {
   "cell_type": "code",
   "execution_count": null,
   "id": "eadf8fb4",
   "metadata": {},
   "outputs": [],
   "source": [
    "#Cumulative distribution of coverage\n",
    "df_cumulative = df.copy()\n",
    "\n",
    "for c in chrom:\n",
    "    df_cumulative[c] = [sum(df[c].iloc[x:len(df[c]) + 1]) for x in range(len(df[c]))]\n",
    "    \n",
    "df_cumulative.sort_values(by=[\"coverage\"], ascending=False)\n"
   ]
  },
  {
   "cell_type": "code",
   "execution_count": null,
   "id": "0b64243b",
   "metadata": {},
   "outputs": [],
   "source": [
    "#Plot cumulative coverage distribution across all chromosomes\n",
    "#Note the reversed x-axis!\n",
    "for c in chrom:\n",
    "    plt.plot(df_cumulative[\"coverage\"], df_cumulative[c], label=c)\n",
    "\n",
    "plt.xticks(np.arange(min(df_cumulative[\"coverage\"]), max(df_cumulative[\"coverage\"]+1)))        \n",
    "plt.legend(title=\"chromosome\", loc=\"lower right\")\n",
    "plt.axis([max(df_cumulative[\"coverage\"]), min(df_cumulative[\"coverage\"]), 0, 1])\n",
    "plt.xlabel(\"Coverage\")\n",
    "plt.ylabel(\"Percentage of total bases with at least the given coverage\")\n",
    "plt.title(\"Cumulative coverage across sorghum genomes\")\n",
    "plt.gca().yaxis.set_major_formatter(mtick.PercentFormatter(xmax=1, decimals=None, symbol='%', is_latex=False))\n",
    "plt.show()"
   ]
  }
 ],
 "metadata": {
  "kernelspec": {
   "display_name": "Python 3 (ipykernel)",
   "language": "python",
   "name": "python3"
  },
  "language_info": {
   "codemirror_mode": {
    "name": "ipython",
    "version": 3
   },
   "file_extension": ".py",
   "mimetype": "text/x-python",
   "name": "python",
   "nbconvert_exporter": "python",
   "pygments_lexer": "ipython3",
   "version": "3.9.12"
  }
 },
 "nbformat": 4,
 "nbformat_minor": 5
}
